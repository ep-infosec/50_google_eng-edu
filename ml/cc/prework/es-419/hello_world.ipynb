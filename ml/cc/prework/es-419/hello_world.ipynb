{
  "nbformat_minor": 0,
  "nbformat": 4,
  "cells": [
    {
      "source": [
        "#### Copyright 2017 Google LLC."
      ],
      "cell_type": "markdown",
      "metadata": {
        "colab_type": "text",
        "id": "copyright-notice"
      }
    },
    {
      "execution_count": 0,
      "cell_type": "code",
      "source": [
        "# Licensed under the Apache License, Version 2.0 (the \"License\");\n",
        "# you may not use this file except in compliance with the License.\n",
        "# You may obtain a copy of the License at\n",
        "#\n",
        "# https://www.apache.org/licenses/LICENSE-2.0\n",
        "#\n",
        "# Unless required by applicable law or agreed to in writing, software\n",
        "# distributed under the License is distributed on an \"AS IS\" BASIS,\n",
        "# WITHOUT WARRANTIES OR CONDITIONS OF ANY KIND, either express or implied.\n",
        "# See the License for the specific language governing permissions and\n",
        "# limitations under the License."
      ],
      "outputs": [],
      "metadata": {
        "colab_type": "code",
        "id": "copyright-notice2",
        "colab": {
          "autoexec": {
            "wait_interval": 0,
            "startup": false
          }
        },
        "cellView": "both"
      }
    },
    {
      "source": [
        " # Trabajo previo: Hello World"
      ],
      "cell_type": "markdown",
      "metadata": {
        "colab_type": "text",
        "id": "cH-YtyZs7Gcg"
      }
    },
    {
      "source": [
        " **Objetivo de aprendizaje:** Ejecutar un programa de TensorFlow en el navegador"
      ],
      "cell_type": "markdown",
      "metadata": {
        "colab_type": "text",
        "id": "r0QBC2kTixPn"
      }
    },
    {
      "source": [
        " Este es el programa de TensorFlow \"Hello World\":"
      ],
      "cell_type": "markdown",
      "metadata": {
        "colab_type": "text",
        "id": "33fL46pgixPo"
      }
    },
    {
      "source": [
        "from __future__ import print_function\n\n",
        "import tensorflow as tf\n",
        "\n",
        "c = tf.constant('Hello, world!')\n",
        "\n",
        "with tf.Session() as sess:\n",
        "\n",
        "    print(sess.run(c))"
      ],
      "cell_type": "code",
      "metadata": {
        "colab_type": "code",
        "id": "bRuPN7qo7ICp",
        "colab": {
          "autoexec": {
            "wait_interval": 0,
            "startup": false
          }
        },
        "cellView": "both"
      },
      "outputs": [],
      "execution_count": 0
    },
    {
      "source": [
        " ## Para ejecutar este programa\n",
        "\n",
        "  1. Haz clic en cualquier parte del bloque de c\u00f3digo (p. ej., en la palabra `importar`).\n",
        "\n",
        "  2. Haz clic en el \u00edcono de tri\u00e1ngulo orientado hacia la derecha que se encuentra en la esquina superior izquierda del bloque de c\u00f3digo o presiona \u2318/Ctrl-Intro.\n",
        "\n",
        "     El programa se tomar\u00e1 unos segundos en ejecutarse. Si el proceso se completa correctamente, el programa mostrar\u00e1 la frase `Hello, world!` debajo del bloque de c\u00f3digo.\n",
        "\n",
        "Este programa completo consiste en un bloque de c\u00f3digo \u00fanico. No obstante, la mayor\u00eda de los ejercicios incluyen varios bloques de c\u00f3digo. En esos casos, debes **ejecutar los bloques de c\u00f3digo individualmente en secuencia, del primero al \u00faltimo.** \n",
        "\n",
        "Si se ejecutan los bloques de c\u00f3digo de forma aleatoria, por lo general se producen errores."
      ],
      "cell_type": "markdown",
      "metadata": {
        "colab_type": "text",
        "id": "Bl1nAshab6m5"
      }
    },
    {
      "source": [
        " ## Combinaciones de teclas \u00fatiles\n",
        "\n",
        "* **\u2318/Ctrl+m,b:** crea una celda de c\u00f3digo vac\u00eda debajo de la celda seleccionada\n",
        "* **\u2318/Ctrl+m,i:** interrumpe la ejecuci\u00f3n de una celda\n",
        "* **\u2318/Ctrl+m,h:** muestra una lista de todas las combinaciones de teclas\n",
        "* Para realizar una documentaci\u00f3n en cualquier m\u00e9todo de la API de TensorFlow, coloca el cursor despu\u00e9s del par\u00e9ntesis y presiona la **tecla de tabulaci\u00f3n**:\n",
        "\n",
        "![documentaci\u00f3n emergente para el m\u00e9todo TensorFlow tf.constant](https://download.mlcc.google.com/mledu-images/tf_constant_pop_up_doc.png)"
      ],
      "cell_type": "markdown",
      "metadata": {
        "colab_type": "text",
        "id": "UpzZ0Gv-uKf_"
      }
    }
  ],
  "metadata": {
    "colab": {
      "default_view": {},
      "version": "0.3.2",
      "collapsed_sections": [
        "copyright-notice"
      ],
      "name": "hello_world.ipynb",
      "views": {}
    },
    "kernelspec": {
      "name": "python3",
      "display_name": "Python 3"
    }
  }
}
